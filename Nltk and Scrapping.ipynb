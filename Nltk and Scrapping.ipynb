{
 "cells": [
  {
   "cell_type": "markdown",
   "metadata": {},
   "source": [
    "# Notes on Nltk"
   ]
  },
  {
   "cell_type": "code",
   "execution_count": 4,
   "metadata": {},
   "outputs": [
    {
     "name": "stdout",
     "output_type": "stream",
     "text": [
      "Nutrition is the mode of intake of food by the organism and its utilisation by the body.\n",
      "All organisms need food to perform their life processes.\n",
      "The mode of nutrition in plants can be autotrophic mode or heterotrophic mode.\n",
      "Plants can be classified into autotrophs and heterotrophs.\n",
      "Photosynthesis is an autotrophic mode of nutrition.\n",
      "Photosynthesis is a process by which green plants can synthesise glucose from raw materials like carbon dioxide and\n",
      "water in the presence of sunlight and chlorophyll.\n",
      "Photosynthesis involves the conversion of solar energy into chemical energy to synthesise starch.\n",
      "Heterotrophic plants do not possess chlorophyll and therefore cannot produce their own food.\n",
      "Heterotrophic plants obtain food from other plants by following either a parasitic, saprophytic or symbiotic mode.\n"
     ]
    }
   ],
   "source": [
    "import nltk\n",
    "from textblob import TextBlob\n",
    "nfile= open(r\"E:\\science.txt\",\"r+\") \n",
    "txt = nfile.read()\n",
    "print(txt)\n",
    "blob = TextBlob(txt)\n",
    "print(blob.noun_phrases)\n",
    "print(blob.tags)\n",
    "list1=blob.noun_phrases\n",
    "with open(r\"E:\\nouns_list.txt\", 'w') as f:\n",
    "    for item in list1:\n",
    "        f.write(\"%s\\n\" % item)"
   ]
  },
  {
   "cell_type": "code",
   "execution_count": 17,
   "metadata": {},
   "outputs": [
    {
     "name": "stdout",
     "output_type": "stream",
     "text": [
      "To revise the method of adding and subtracting integers\n",
      "To calculate the product of the given integers\n",
      "To divide an integer by another integer\n",
      "To explain the closure property under addition, subtraction, multiplication and division\n",
      "To explain the commutative property under addition, subtraction, multiplication and division\n",
      "To explain the associative property under addition, subtraction, multiplication and division\n",
      "To explain the distributive property of multiplication over addition and subtraction\n",
      "To explain the additive identity property\n",
      "To explain the additive inverse property\n",
      "To explain the multiplicative identity property\n"
     ]
    }
   ],
   "source": [
    "import nltk\n",
    "from textblob import TextBlob\n",
    "from textblob import Word\n",
    "from textblob.wordnet import VERB\n",
    "nfile= open(r\"E:\\mathsobj.txt\",\"r+\") \n",
    "txt = nfile.read()\n",
    "blob = TextBlob(txt)\n",
    "for sentence in blob.sentences:\n",
    "    print(sentence)\n",
    "    \n",
    "list1=blob.noun_phrases\n",
    "with open(r\"E:\\nouns_list.txt\", 'w') as f:\n",
    "    for item in list1:\n",
    "        f.write(\"%s\\n\" % item)\n",
    "with open(r\"E:\\sentance_list.txt\", 'w') as f2:\n",
    "    for sentence in blob.sentences:\n",
    "        f2.write(\"%s\\n\" % sentence)\n"
   ]
  },
  {
   "cell_type": "code",
   "execution_count": 19,
   "metadata": {},
   "outputs": [
    {
     "name": "stdout",
     "output_type": "stream",
     "text": [
      "Nouns in the Lesson Plan: ['Nutrition', 'mode', 'intake', 'food', 'organism', 'utilisation', 'body', 'food', 'life', 'mode', 'nutrition', 'mode', 'mode', 'autotrophs', 'heterotrophs', 'Photosynthesis', 'mode', 'nutrition', 'Photosynthesis', 'process', 'glucose', 'carbon', 'dioxide', 'water', 'presence', 'sunlight', 'chlorophyll', 'Photosynthesis', 'conversion', 'energy', 'energy', 'starch', 'chlorophyll', 'food', 'food', 'mode']\n",
      "Adjectives in the Lesson Plan: ['autotrophic', 'heterotrophic', 'autotrophic', 'green', 'raw', 'solar', 'chemical', 'Heterotrophic', 'own', 'Heterotrophic', 'other', 'parasitic', 'saprophytic', 'symbiotic']\n",
      "Prepositions in the Lesson Plan: ['of', 'of', 'by', 'by', 'of', 'in', 'into', 'of', 'by', 'from', 'like', 'in', 'of', 'of', 'into', 'from', 'by']\n",
      "Verbs in the Lesson Plan: ['is', 'perform', 'be', 'be', 'classified', 'is', 'is', 'synthesise', 'involves', 'synthesise', 'possess', 'produce', 'obtain', 'following']\n",
      "Total words in the document: 123\n",
      "No.of Nouns: 36\n",
      "No.of Adjectives: 14\n",
      "No.of Prepositions: 17\n",
      "No.of Verbs: 14\n",
      "percentage of Nouns 29.268292682926827\n",
      "percentage of Adjectives 11.38211382113821\n",
      "percentage of prepositions 13.821138211382115\n",
      "percentage of Verbs 11.38211382113821\n",
      "Counter({'mode': 6, 'food': 4, 'Photosynthesis': 3, 'nutrition': 2, 'chlorophyll': 2, 'energy': 2, 'Nutrition': 1, 'intake': 1, 'organism': 1, 'utilisation': 1, 'body': 1, 'life': 1, 'autotrophs': 1, 'heterotrophs': 1, 'process': 1, 'glucose': 1, 'carbon': 1, 'dioxide': 1, 'water': 1, 'presence': 1, 'sunlight': 1, 'conversion': 1, 'starch': 1})\n",
      "Counter({'is': 3, 'be': 2, 'synthesise': 2, 'perform': 1, 'classified': 1, 'involves': 1, 'possess': 1, 'produce': 1, 'obtain': 1, 'following': 1})\n"
     ]
    }
   ],
   "source": [
    "import nltk\n",
    "from textblob import TextBlob\n",
    "from collections import Counter\n",
    "nfile= open(r\"E:\\science.txt\",\"r+\") \n",
    "txt = nfile.read()\n",
    "blob = TextBlob(txt)\n",
    "Nouns = [item[0] for item in blob.tags\n",
    "          if item[1] == 'NN']\n",
    "Adjective= [item[0] for item in blob.tags\n",
    "          if item[1] == 'JJ']\n",
    "Prepositions= [item[0] for item in blob.tags\n",
    "          if item[1] == 'IN']\n",
    "Verb= [item[0] for item in blob.tags\n",
    "          if item[1] == 'VB' or item[1] == 'VBN' or item[1] == 'VBG' or item[1] == 'VBZ']\n",
    "print(\"Nouns in the Lesson Plan:\", Nouns)\n",
    "\n",
    "print(\"Adjectives in the Lesson Plan:\",Adjective)\n",
    "print(\"Prepositions in the Lesson Plan:\",Prepositions)\n",
    "print(\"Verbs in the Lesson Plan:\",Verb)\n",
    "Nc=len(Nouns)\n",
    "Ac=len(Adjective)\n",
    "Pc=len(Prepositions)\n",
    "V=len(Verb)\n",
    "length_of_the_words=len(blob.words)\n",
    "print(\"Total words in the document:\",length_of_the_words)\n",
    "print(\"No.of Nouns:\",Nc)\n",
    "print(\"No.of Adjectives:\",Ac)\n",
    "print(\"No.of Prepositions:\",Pc)\n",
    "print(\"No.of Verbs:\",V)\n",
    "print(\"percentage of Nouns\", (Nc/length_of_the_words)*100)\n",
    "print(\"percentage of Adjectives\", (Ac/length_of_the_words)*100)\n",
    "print(\"percentage of prepositions\", (Pc/length_of_the_words)*100)\n",
    "print(\"percentage of Verbs\", (V/length_of_the_words)*100)\n",
    "Rn=Counter(Nouns)# prininting how many times a pirticular noun is appeared\n",
    "print(Rn)\n",
    "vc=Counter(Verb)#similar for verbs\n",
    "print(vc)\n",
    "\n"
   ]
  },
  {
   "cell_type": "code",
   "execution_count": 20,
   "metadata": {},
   "outputs": [
    {
     "name": "stdout",
     "output_type": "stream",
     "text": [
      "Sentiment(polarity=0.34285714285714286, subjectivity=0.5821428571428572)\n"
     ]
    }
   ],
   "source": [
    "import nltk\n",
    "from textblob import TextBlob\n",
    "txt= \"fraction is three type proper improper or mixed fraction.i love your explainations and i understand. Wow that's awesome congrats . I like it.GOOD EXPLANATION.You like to eat pizza.Thanks.\\nIt was a good video, but here in our country, all of our books refer to like and unlike fractions as similar and dissimilar fractions.\\nI don't know why.But, this would have been the video I was looking for.\\nThanks.\\nWhy 4 over 4 is improper fraction?.\\nLike fractions? Unlike fractions? What about the Similar fraction or the dissimilar fraction? Please teach us what to do.\\nI love  this video it give me a boost.\\nExcellent.\\nGood.\\nWow it's alluring.\\nI can't understand.\\nlike fractions or similar fractions\"\n",
    "sentences=txt.split(\".\")\n",
    "blob = TextBlob(txt)\n",
    "print(blob.sentiment)"
   ]
  },
  {
   "cell_type": "markdown",
   "metadata": {},
   "source": [
    "# Youtube Videos Scrapping"
   ]
  },
  {
   "cell_type": "code",
   "execution_count": 21,
   "metadata": {},
   "outputs": [
    {
     "name": "stdout",
     "output_type": "stream",
     "text": [
      "LO: the method of adding and subtracting integers\n",
      "https://www.youtube.com/watch?v=ONwMaZ3Ik4M Adding and Subtracting Integers- Easy Method\n",
      "62.92134831460674\n",
      "https://www.youtube.com/watch?v=tHEBDtqvlC4 RULES FOR ADDING AND SUBTRACTING INTEGERS ( Positive and Negative Numbers)\n",
      "23.52941176470588\n",
      "https://www.youtube.com/watch?v=y4NV6EbFceg Basic Math - Subtract integers\n",
      "48.0\n",
      "https://www.youtube.com/watch?v=AfefF_QZIbc Adding and Subtracting Integers\n",
      "73.68421052631578\n",
      "https://www.youtube.com/watch?v=e6g7FAdIH8Q Adding and Subtracting Integers Practice Video\n",
      "61.53846153846154\n",
      "LO: closure property of rational numbers\n",
      "https://www.youtube.com/watch?v=Vdtde83gIBw CBSE class 8-Chapter 1-Closure Properties Of Integers & Rational Numbers\n",
      "57.407407407407405\n",
      "https://www.youtube.com/watch?v=mOtI6qa7Ogw Closure Property Of Rational Numbers\n",
      "86.11111111111111\n",
      "https://www.youtube.com/watch?v=BA00pj77U3M Properties of Rational No - Closure property under Division - Number System - Maths\n",
      "43.69747899159664\n",
      "https://www.youtube.com/watch?v=PGqgkEzpAio Properties of Rational Numbers\n",
      "72.72727272727273\n",
      "https://www.youtube.com/watch?v=064yIOoTq9g 6. D - Distributivity of multiplication over addition in Rational Numbers\n",
      "38.53211009174312\n",
      "LO: To represent rational numbers in number line\n",
      "https://www.youtube.com/watch?v=J-mrAZbOvQ8 Rational Numbers on a Number Line - Part 1\n",
      "60.46511627906976\n",
      "https://www.youtube.com/watch?v=SfhvqcG2aJc Rational Numbers on a Number Line - Part 3\n",
      "60.46511627906976\n",
      "https://www.youtube.com/watch?v=WynEmwOyMjE Rational Numbers on a Number Line - Part 2\n",
      "60.46511627906976\n",
      "https://www.youtube.com/watch?v=_rbUq4ZsRqA How to representation of Rational Numbers on Number Line\n",
      "74.0\n",
      "https://www.youtube.com/watch?v=STsZakozDoE How to represent Rational Numbers on a number line?\n",
      "65.26315789473685\n",
      "LO: to find rational numbers between two rational numbers\n",
      "https://www.youtube.com/watch?v=kUsOhK9YCu8 How many Rational Numbers exist between Two Rational Numbers?\n",
      "73.68421052631578\n",
      "https://www.youtube.com/watch?v=5AcKXVrY-uo Finding Irrational Numbers between two rational numbers\n",
      "87.03703703703704\n",
      "https://www.youtube.com/watch?v=fnReWIhHz4s How many Rational Numbers exist between Two Rational Numbers? (Finding Averages)\n",
      "63.1578947368421\n",
      "https://www.youtube.com/watch?v=sY80g43ruok Rational Numbers between two Rational Numbers class-7\n",
      "77.35849056603774\n",
      "https://www.youtube.com/watch?v=KfVrDaT43R4 Class 9th Mathematics NUMBER SYSTEM  Find five rational numbers between 1 and 2\n",
      "48.484848484848484\n",
      "LO: to calculate sum of interior and exterior angles of polygon\n",
      "https://www.youtube.com/watch?v=W1R7D90riOw Finding the sum and measure of an interior angle for a regular pentagon\n",
      "46.15384615384615\n",
      "https://www.youtube.com/watch?v=9_Y8P3oHwL0 Interior Angles of a Polygon - Geometry\n",
      "46.93877551020408\n",
      "https://www.youtube.com/watch?v=V8N1yrKKkEU Find the Number of Sides of Polygon from Sum of Interior Angles\n",
      "37.704918032786885\n",
      "https://www.youtube.com/watch?v=1cNuas5hPTk Polygons Finding Number of Sides\n",
      "13.186813186813188\n",
      "https://www.youtube.com/watch?v=j5jkWFy323U Each Interior Angle of a Regular Polygon - MathHelp.com\n",
      "40.35087719298245\n",
      "LO: \n"
     ]
    }
   ],
   "source": [
    "import urllib.request\n",
    "from bs4 import BeautifulSoup\n",
    "from difflib import SequenceMatcher\n",
    "import numpy as np\n",
    "import itertools\n",
    "text= \"the method of adding and subtracting integers.closure property of rational numbers.To represent rational numbers in number line.to find rational numbers between two rational numbers.to calculate sum of interior and exterior angles of polygon.\"\n",
    "objectives = text.split('.')\n",
    "for i in objectives:\n",
    "    words_in_i=i.split(\" \")\n",
    "    query = urllib.parse.quote(i)\n",
    "    print(\"LO:\",i)\n",
    "    url = \"https://www.youtube.com/results?search_query=\" + query+\"&sp=EgIYAQ%253D%253D\"\n",
    "    response = urllib.request.urlopen(url)\n",
    "    html = response.read()\n",
    "    soup = BeautifulSoup(html, 'html.parser')\n",
    "    for vid in soup.findAll(attrs={'class':'yt-uix-tile-link'},limit=5):\n",
    "        print('https://www.youtube.com' + vid['href']+ \" \"+ vid['title'])\n",
    "        url_link='https://www.youtube.com' + vid['href']\n",
    "        s = SequenceMatcher(lambda x: x == \" \",i,vid['title'])\n",
    "        seq_percentage=s.ratio()*100\n",
    "        print(seq_percentage)"
   ]
  },
  {
   "cell_type": "code",
   "execution_count": null,
   "metadata": {},
   "outputs": [],
   "source": []
  },
  {
   "cell_type": "code",
   "execution_count": null,
   "metadata": {},
   "outputs": [],
   "source": []
  }
 ],
 "metadata": {
  "kernelspec": {
   "display_name": "Python 3",
   "language": "python",
   "name": "python3"
  },
  "language_info": {
   "codemirror_mode": {
    "name": "ipython",
    "version": 3
   },
   "file_extension": ".py",
   "mimetype": "text/x-python",
   "name": "python",
   "nbconvert_exporter": "python",
   "pygments_lexer": "ipython3",
   "version": "3.7.4"
  }
 },
 "nbformat": 4,
 "nbformat_minor": 2
}
